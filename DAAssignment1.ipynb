{
  "nbformat": 4,
  "nbformat_minor": 0,
  "metadata": {
    "colab": {
      "provenance": [],
      "authorship_tag": "ABX9TyMRUJSFF/NnFCKeFdKVcmjO",
      "include_colab_link": true
    },
    "kernelspec": {
      "name": "python3",
      "display_name": "Python 3"
    },
    "language_info": {
      "name": "python"
    }
  },
  "cells": [
    {
      "cell_type": "markdown",
      "metadata": {
        "id": "view-in-github",
        "colab_type": "text"
      },
      "source": [
        "<a href=\"https://colab.research.google.com/github/sammaknshinde2410/Data-Analytics/blob/main/DAAssignment1.ipynb\" target=\"_parent\"><img src=\"https://colab.research.google.com/assets/colab-badge.svg\" alt=\"Open In Colab\"/></a>"
      ]
    },
    {
      "cell_type": "code",
      "execution_count": null,
      "metadata": {
        "id": "v-SdkXiUl2EQ",
        "colab": {
          "base_uri": "https://localhost:8080/",
          "height": 36
        },
        "outputId": "157057a6-f0f7-4ac3-a990-95ea18e3271d"
      },
      "outputs": [
        {
          "output_type": "execute_result",
          "data": {
            "text/plain": [
              "'1.26.4'"
            ],
            "application/vnd.google.colaboratory.intrinsic+json": {
              "type": "string"
            }
          },
          "metadata": {},
          "execution_count": 2
        }
      ],
      "source": [
        "import numpy as np\n",
        "np.__version__"
      ]
    },
    {
      "cell_type": "code",
      "source": [
        "np.__config__"
      ],
      "metadata": {
        "colab": {
          "base_uri": "https://localhost:8080/"
        },
        "id": "qKw1wg14tRQ0",
        "outputId": "7092f2e6-b270-42fb-f676-bcc580eaa983"
      },
      "execution_count": null,
      "outputs": [
        {
          "output_type": "execute_result",
          "data": {
            "text/plain": [
              "<module 'numpy.__config__' from '/usr/local/lib/python3.10/dist-packages/numpy/__config__.py'>"
            ]
          },
          "metadata": {},
          "execution_count": 3
        }
      ]
    },
    {
      "cell_type": "code",
      "source": [
        "# 2. Write a NumPy program to get help on the add function.\n",
        "np.info(\"add\")"
      ],
      "metadata": {
        "colab": {
          "base_uri": "https://localhost:8080/"
        },
        "id": "uA5WR3yCtS2i",
        "outputId": "d731d4eb-bf66-4400-9bf0-c20f522ff845"
      },
      "execution_count": null,
      "outputs": [
        {
          "output_type": "stream",
          "name": "stdout",
          "text": [
            "     *** Found in numpy ***\n",
            "add(x1, x2, /, out=None, *, where=True, casting='same_kind', order='K', dtype=None, subok=True[, signature, extobj])\n",
            "\n",
            "Add arguments element-wise.\n",
            "\n",
            "Parameters\n",
            "----------\n",
            "x1, x2 : array_like\n",
            "    The arrays to be added.\n",
            "    If ``x1.shape != x2.shape``, they must be broadcastable to a common\n",
            "    shape (which becomes the shape of the output).\n",
            "out : ndarray, None, or tuple of ndarray and None, optional\n",
            "    A location into which the result is stored. If provided, it must have\n",
            "    a shape that the inputs broadcast to. If not provided or None,\n",
            "    a freshly-allocated array is returned. A tuple (possible only as a\n",
            "    keyword argument) must have length equal to the number of outputs.\n",
            "where : array_like, optional\n",
            "    This condition is broadcast over the input. At locations where the\n",
            "    condition is True, the `out` array will be set to the ufunc result.\n",
            "    Elsewhere, the `out` array will retain its original value.\n",
            "    Note that if an uninitialized `out` array is created via the default\n",
            "    ``out=None``, locations within it where the condition is False will\n",
            "    remain uninitialized.\n",
            "**kwargs\n",
            "    For other keyword-only arguments, see the\n",
            "    :ref:`ufunc docs <ufuncs.kwargs>`.\n",
            "\n",
            "Returns\n",
            "-------\n",
            "add : ndarray or scalar\n",
            "    The sum of `x1` and `x2`, element-wise.\n",
            "    This is a scalar if both `x1` and `x2` are scalars.\n",
            "\n",
            "Notes\n",
            "-----\n",
            "Equivalent to `x1` + `x2` in terms of array broadcasting.\n",
            "\n",
            "Examples\n",
            "--------\n",
            ">>> np.add(1.0, 4.0)\n",
            "5.0\n",
            ">>> x1 = np.arange(9.0).reshape((3, 3))\n",
            ">>> x2 = np.arange(3.0)\n",
            ">>> np.add(x1, x2)\n",
            "array([[  0.,   2.,   4.],\n",
            "       [  3.,   5.,   7.],\n",
            "       [  6.,   8.,  10.]])\n",
            "\n",
            "The ``+`` operator can be used as a shorthand for ``np.add`` on ndarrays.\n",
            "\n",
            ">>> x1 = np.arange(9.0).reshape((3, 3))\n",
            ">>> x2 = np.arange(3.0)\n",
            ">>> x1 + x2\n",
            "array([[ 0.,  2.,  4.],\n",
            "       [ 3.,  5.,  7.],\n",
            "       [ 6.,  8., 10.]])\n",
            "----------------------------------------------------------------------------\n",
            "\n",
            "     *** Repeat reference found in numpy.core *** \n",
            "     *** Found in numpy.core.defchararray ***\n",
            "Return element-wise string concatenation for two arrays of str or unicode.\n",
            "\n",
            "Arrays `x1` and `x2` must have the same shape.\n",
            "\n",
            "Parameters\n",
            "----------\n",
            "x1 : array_like of str or unicode\n",
            "    Input array.\n",
            "x2 : array_like of str or unicode\n",
            "    Input array.\n",
            "\n",
            "Returns\n",
            "-------\n",
            "add : ndarray\n",
            "    Output array of `bytes_` or `str_`, depending on input types\n",
            "    of the same shape as `x1` and `x2`.\n",
            "----------------------------------------------------------------------------\n",
            "     *** Found in numpy.ma ***\n",
            "add(x1, x2, /, out=None, *, where=True, casting='same_kind', order='K', dtype=None, subok=True[, signature, extobj])\n",
            "\n",
            "Add arguments element-wise.\n",
            "\n",
            "Parameters\n",
            "----------\n",
            "x1, x2 : array_like\n",
            "    The arrays to be added.\n",
            "    If ``x1.shape != x2.shape``, they must be broadcastable to a common\n",
            "    shape (which becomes the shape of the output).\n",
            "out : ndarray, None, or tuple of ndarray and None, optional\n",
            "    A location into which the result is stored. If provided, it must have\n",
            "    a shape that the inputs broadcast to. If not provided or None,\n",
            "    a freshly-allocated array is returned. A tuple (possible only as a\n",
            "    keyword argument) must have length equal to the number of outputs.\n",
            "where : array_like, optional\n",
            "    This condition is broadcast over the input. At locations where the\n",
            "    condition is True, the `out` array will be set to the ufunc result.\n",
            "    Elsewhere, the `out` array will retain its original value.\n",
            "    Note that if an uninitialized `out` array is created via the default\n",
            "    ``out=None``, locations within it where the condition is False will\n",
            "    remain uninitialized.\n",
            "**kwargs\n",
            "    For other keyword-only arguments, see the\n",
            "    :ref:`ufunc docs <ufuncs.kwargs>`.\n",
            "\n",
            "Returns\n",
            "-------\n",
            "add : ndarray or scalar\n",
            "    The sum of `x1` and `x2`, element-wise.\n",
            "    This is a scalar if both `x1` and `x2` are scalars.\n",
            "\n",
            "Notes\n",
            "-----\n",
            "Equivalent to `x1` + `x2` in terms of array broadcasting.\n",
            "\n",
            "Examples\n",
            "--------\n",
            ">>> np.add(1.0, 4.0)\n",
            "5.0\n",
            ">>> x1 = np.arange(9.0).reshape((3, 3))\n",
            ">>> x2 = np.arange(3.0)\n",
            ">>> np.add(x1, x2)\n",
            "array([[  0.,   2.,   4.],\n",
            "       [  3.,   5.,   7.],\n",
            "       [  6.,   8.,  10.]])\n",
            "\n",
            "The ``+`` operator can be used as a shorthand for ``np.add`` on ndarrays.\n",
            "\n",
            ">>> x1 = np.arange(9.0).reshape((3, 3))\n",
            ">>> x2 = np.arange(3.0)\n",
            ">>> x1 + x2\n",
            "array([[ 0.,  2.,  4.],\n",
            "       [ 3.,  5.,  7.],\n",
            "       [ 6.,  8., 10.]])\n",
            "----------------------------------------------------------------------------\n",
            "\n",
            "     *** Repeat reference found in numpy.core._multiarray_umath *** \n",
            "\n",
            "     *** Repeat reference found in numpy.core.multiarray *** \n",
            "\n",
            "     *** Repeat reference found in numpy.core.umath *** \n",
            "\n",
            "     *** Repeat reference found in numpy.core.numeric *** \n",
            "\n",
            "     *** Repeat reference found in numpy.linalg.linalg *** \n",
            "\n",
            "     *** Repeat reference found in numpy.lib.function_base *** \n",
            "\n",
            "     *** Repeat reference found in numpy.ma.core *** \n",
            "\n",
            "     *** Repeat reference found in numpy.ma.extras *** \n",
            "     *** Found in operator ***\n",
            "Same as a + b.\n",
            "----------------------------------------------------------------------------\n",
            "\n",
            "     *** Total of 13 references found. ***\n"
          ]
        }
      ]
    },
    {
      "cell_type": "code",
      "source": [
        "#3. Write a NumPy program to test whether none of the elements of a given array is zero.\n",
        "a= np.array([0,1,2,4,5,6])\n",
        "np.all(a)"
      ],
      "metadata": {
        "colab": {
          "base_uri": "https://localhost:8080/"
        },
        "id": "j9uHgPwStStK",
        "outputId": "39b79f5d-e95e-4add-ecc7-3ad6244a6dde"
      },
      "execution_count": null,
      "outputs": [
        {
          "output_type": "execute_result",
          "data": {
            "text/plain": [
              "False"
            ]
          },
          "metadata": {},
          "execution_count": 5
        }
      ]
    },
    {
      "cell_type": "code",
      "source": [
        "# 4. Write a NumPy program to test whether any of the elements of a given array is non-zero.\n",
        "b = np.array([1,2,4,5,6])\n",
        "np.any(a)"
      ],
      "metadata": {
        "colab": {
          "base_uri": "https://localhost:8080/"
        },
        "id": "rROmlAmMtSZi",
        "outputId": "270abf8e-3e13-4cac-bea7-3a167d7ad104"
      },
      "execution_count": null,
      "outputs": [
        {
          "output_type": "execute_result",
          "data": {
            "text/plain": [
              "True"
            ]
          },
          "metadata": {},
          "execution_count": 6
        }
      ]
    },
    {
      "cell_type": "code",
      "source": [
        "# 5. Write a NumPy program to test a given array element-wise for finiteness (not infinity or not a Number).\n",
        "c = np.array([1, 0, np.nan, np.inf])\n",
        "np.isfinite(c)"
      ],
      "metadata": {
        "colab": {
          "base_uri": "https://localhost:8080/"
        },
        "id": "Sc6-SnX7tSH6",
        "outputId": "d4456a93-1c08-4cbb-a538-53344a6bbe30"
      },
      "execution_count": null,
      "outputs": [
        {
          "output_type": "execute_result",
          "data": {
            "text/plain": [
              "array([ True,  True, False, False])"
            ]
          },
          "metadata": {},
          "execution_count": 7
        }
      ]
    },
    {
      "cell_type": "code",
      "source": [
        "# 6. Write a NumPy program to test element-wise for positive or negative infinity.\n",
        "d = np.array([1, 0, np.nan, np.inf])\n",
        "np.isinf(d)"
      ],
      "metadata": {
        "colab": {
          "base_uri": "https://localhost:8080/"
        },
        "id": "eGVDX9nZvxBi",
        "outputId": "9a206718-ee4e-4fa6-cc1b-68e411729967"
      },
      "execution_count": null,
      "outputs": [
        {
          "output_type": "execute_result",
          "data": {
            "text/plain": [
              "array([False, False, False,  True])"
            ]
          },
          "metadata": {},
          "execution_count": 8
        }
      ]
    },
    {
      "cell_type": "code",
      "source": [
        "# 7. Write a NumPy program to test element-wise for NaN of a given array.\n",
        "e = np.array([1, 0, np.nan, np.inf])\n",
        "np.isnan(e)"
      ],
      "metadata": {
        "colab": {
          "base_uri": "https://localhost:8080/"
        },
        "id": "CbrzeAWVvw6K",
        "outputId": "0057cd54-5901-4936-cfec-981d24bda4be"
      },
      "execution_count": null,
      "outputs": [
        {
          "output_type": "execute_result",
          "data": {
            "text/plain": [
              "array([False, False,  True, False])"
            ]
          },
          "metadata": {},
          "execution_count": 9
        }
      ]
    },
    {
      "cell_type": "code",
      "source": [
        "#8 Write a NumPy program to test element-wise for complex number, real number of a given array. Alsotest whether a given number is a scalar type or not.\n",
        "d = np.array([23,23+4j,4,5,23+4j])\n",
        "print(np.iscomplex(d))\n",
        "print(np.isscalar(45))\n",
        "print(np.isreal(d))\n"
      ],
      "metadata": {
        "colab": {
          "base_uri": "https://localhost:8080/"
        },
        "id": "gxw9QPAIvw0D",
        "outputId": "57cc12ba-61fa-4490-97c6-d9f07d44df7f"
      },
      "execution_count": null,
      "outputs": [
        {
          "output_type": "stream",
          "name": "stdout",
          "text": [
            "[False  True False False  True]\n",
            "True\n",
            "[ True False  True  True False]\n"
          ]
        }
      ]
    },
    {
      "cell_type": "code",
      "source": [
        "# 9. Write a NumPy program to create an element-wise comparison (greater, greater_equal, less and\n",
        "# less_equal) of two given arrays.\n",
        "print(np.less_equal(np.array([1,3,5]),np.array([2,1,6])))\n",
        "print(np.array([1,3,5])<np.array([2,1,6]))\n",
        "print(np.array([1,3,5])==np.array([2,1,6]))"
      ],
      "metadata": {
        "colab": {
          "base_uri": "https://localhost:8080/"
        },
        "id": "Hut3gna0vws6",
        "outputId": "50e7822c-98df-4440-f91a-590099c3a884"
      },
      "execution_count": null,
      "outputs": [
        {
          "output_type": "stream",
          "name": "stdout",
          "text": [
            "[ True False  True]\n",
            "[ True False  True]\n",
            "[False False False]\n"
          ]
        }
      ]
    },
    {
      "cell_type": "code",
      "source": [
        "#10 Write a NumPy program to create an array with the values 1, 7, 13, 105 and determine the size of the memory occupied by the array.\n",
        "arr1 = np.array([1,7,13,105])\n",
        "arr1.nbytes"
      ],
      "metadata": {
        "id": "Ykjkw5xWvwjz",
        "colab": {
          "base_uri": "https://localhost:8080/"
        },
        "outputId": "0558aee9-a48f-4fa1-c7b3-0fc1e2600940"
      },
      "execution_count": null,
      "outputs": [
        {
          "output_type": "execute_result",
          "data": {
            "text/plain": [
              "32"
            ]
          },
          "metadata": {},
          "execution_count": 12
        }
      ]
    },
    {
      "cell_type": "code",
      "source": [
        "#11 Write a NumPy program to create an array of 10 zeros\n",
        "np.zeros(10)"
      ],
      "metadata": {
        "id": "_z0dlEq1mDAY",
        "colab": {
          "base_uri": "https://localhost:8080/"
        },
        "outputId": "89d6e81f-0053-4700-a594-6105081f4365"
      },
      "execution_count": null,
      "outputs": [
        {
          "output_type": "execute_result",
          "data": {
            "text/plain": [
              "array([0., 0., 0., 0., 0., 0., 0., 0., 0., 0.])"
            ]
          },
          "metadata": {},
          "execution_count": 13
        }
      ]
    },
    {
      "cell_type": "code",
      "source": [
        "#11 Write a NumPy program to create an array of 10 ones.\n",
        "np.ones(10)"
      ],
      "metadata": {
        "colab": {
          "base_uri": "https://localhost:8080/"
        },
        "id": "Nw-NhQPZnMS7",
        "outputId": "7be4b8ad-5772-4b05-faab-af8a3e9ddbbb"
      },
      "execution_count": null,
      "outputs": [
        {
          "output_type": "execute_result",
          "data": {
            "text/plain": [
              "array([1., 1., 1., 1., 1., 1., 1., 1., 1., 1.])"
            ]
          },
          "metadata": {},
          "execution_count": 14
        }
      ]
    },
    {
      "cell_type": "code",
      "source": [
        "#11 Write a NumPy program to create an array of 10 fives.\n",
        "np.full(10,5)"
      ],
      "metadata": {
        "colab": {
          "base_uri": "https://localhost:8080/"
        },
        "id": "wvQPRLVYnP7W",
        "outputId": "5423ea0c-7d07-48c6-b290-fad35bc497a2"
      },
      "execution_count": null,
      "outputs": [
        {
          "output_type": "execute_result",
          "data": {
            "text/plain": [
              "array([5, 5, 5, 5, 5, 5, 5, 5, 5, 5])"
            ]
          },
          "metadata": {},
          "execution_count": 15
        }
      ]
    },
    {
      "cell_type": "code",
      "source": [
        "#12 Write a NumPy program to create an array of the integers from 30 to70.\n",
        "arr2 = np.arange(30,71)\n",
        "arr2"
      ],
      "metadata": {
        "colab": {
          "base_uri": "https://localhost:8080/"
        },
        "id": "jxMYsonHzEBN",
        "outputId": "74661f5e-3fe3-4e4c-d3e2-22f42ab3afb8"
      },
      "execution_count": null,
      "outputs": [
        {
          "output_type": "execute_result",
          "data": {
            "text/plain": [
              "array([30, 31, 32, 33, 34, 35, 36, 37, 38, 39, 40, 41, 42, 43, 44, 45, 46,\n",
              "       47, 48, 49, 50, 51, 52, 53, 54, 55, 56, 57, 58, 59, 60, 61, 62, 63,\n",
              "       64, 65, 66, 67, 68, 69, 70])"
            ]
          },
          "metadata": {},
          "execution_count": 16
        }
      ]
    },
    {
      "cell_type": "code",
      "source": [
        "#13 Write a NumPy program to create an array of all the even integers from 30 to 70.\n",
        "arr2 = np.arange(30,71,2)\n",
        "arr2"
      ],
      "metadata": {
        "colab": {
          "base_uri": "https://localhost:8080/"
        },
        "id": "gZO0IeagzD-S",
        "outputId": "072d9fce-4d4b-4279-daea-4b12ee5a1163"
      },
      "execution_count": null,
      "outputs": [
        {
          "output_type": "execute_result",
          "data": {
            "text/plain": [
              "array([30, 32, 34, 36, 38, 40, 42, 44, 46, 48, 50, 52, 54, 56, 58, 60, 62,\n",
              "       64, 66, 68, 70])"
            ]
          },
          "metadata": {},
          "execution_count": 17
        }
      ]
    },
    {
      "cell_type": "code",
      "source": [
        "# 14. Write a NumPy program to create a 3x3 identity matrix.\n",
        "np.eye(3,3)"
      ],
      "metadata": {
        "colab": {
          "base_uri": "https://localhost:8080/"
        },
        "id": "voRFfZf7zD6p",
        "outputId": "e85902b4-07c9-44da-c8ed-54a55cdd4879"
      },
      "execution_count": null,
      "outputs": [
        {
          "output_type": "execute_result",
          "data": {
            "text/plain": [
              "array([[1., 0., 0.],\n",
              "       [0., 1., 0.],\n",
              "       [0., 0., 1.]])"
            ]
          },
          "metadata": {},
          "execution_count": 18
        }
      ]
    },
    {
      "cell_type": "code",
      "source": [
        "# 15. Write a NumPy program to generate a random number between 0 and 1.\n",
        "arr=np.random.rand(1)\n",
        "arr"
      ],
      "metadata": {
        "colab": {
          "base_uri": "https://localhost:8080/"
        },
        "id": "9ddL2sP8zD27",
        "outputId": "dc04bb59-be20-4cf3-c1dc-76310f0fa4f0"
      },
      "execution_count": null,
      "outputs": [
        {
          "output_type": "execute_result",
          "data": {
            "text/plain": [
              "array([0.13481486])"
            ]
          },
          "metadata": {},
          "execution_count": 19
        }
      ]
    },
    {
      "cell_type": "code",
      "source": [
        "# 16. Write a NumPy program to generate an array of 15 random numbers from a standard normal distribution.\n",
        "arr=np.random.randn(15)\n",
        "arr"
      ],
      "metadata": {
        "colab": {
          "base_uri": "https://localhost:8080/"
        },
        "id": "9SsRIsvnzDzw",
        "outputId": "0885ff5c-f2ec-40e5-a37c-ca0083154855"
      },
      "execution_count": null,
      "outputs": [
        {
          "output_type": "execute_result",
          "data": {
            "text/plain": [
              "array([-0.66962671,  3.35589537,  0.19040751,  0.83359149, -0.36031488,\n",
              "        0.79618022,  1.73956261,  0.30089636, -0.75742567, -0.6679874 ,\n",
              "        0.70166355, -0.12055064,  1.86504689, -0.58827864, -0.57517882])"
            ]
          },
          "metadata": {},
          "execution_count": 20
        }
      ]
    },
    {
      "cell_type": "code",
      "source": [
        "#17 Write a NumPy program to create a vector with values ranging from 15 to 55 and print all values except the first and last.\n",
        "arr = np.arange(15,56)\n",
        "arr[1:-1]"
      ],
      "metadata": {
        "colab": {
          "base_uri": "https://localhost:8080/"
        },
        "id": "8WMA3LWJnS8l",
        "outputId": "9268190f-7991-478d-beb3-926957cec256"
      },
      "execution_count": null,
      "outputs": [
        {
          "output_type": "execute_result",
          "data": {
            "text/plain": [
              "array([16, 17, 18, 19, 20, 21, 22, 23, 24, 25, 26, 27, 28, 29, 30, 31, 32,\n",
              "       33, 34, 35, 36, 37, 38, 39, 40, 41, 42, 43, 44, 45, 46, 47, 48, 49,\n",
              "       50, 51, 52, 53, 54])"
            ]
          },
          "metadata": {},
          "execution_count": 21
        }
      ]
    },
    {
      "cell_type": "code",
      "source": [
        "# 18. Write a NumPy program to create a 3X4 array.\n",
        "np.arange(1,13).reshape(3,4)"
      ],
      "metadata": {
        "colab": {
          "base_uri": "https://localhost:8080/"
        },
        "id": "ZnfTlA9xnU9D",
        "outputId": "e2d19613-6a34-4860-a272-5fb8dfbc450a"
      },
      "execution_count": null,
      "outputs": [
        {
          "output_type": "execute_result",
          "data": {
            "text/plain": [
              "array([[ 1,  2,  3,  4],\n",
              "       [ 5,  6,  7,  8],\n",
              "       [ 9, 10, 11, 12]])"
            ]
          },
          "metadata": {},
          "execution_count": 22
        }
      ]
    },
    {
      "cell_type": "code",
      "source": [
        "#19. Write a NumPy program to create a vector of length 10 with values evenly distributed between 5 and 50.\n",
        "arr3 = np.arange(5,51,5)\n",
        "arr3"
      ],
      "metadata": {
        "colab": {
          "base_uri": "https://localhost:8080/"
        },
        "id": "kYIMvNNQrF1S",
        "outputId": "8f32ab61-c0c1-465f-c78c-bf0e3d4a4fbf"
      },
      "execution_count": null,
      "outputs": [
        {
          "output_type": "execute_result",
          "data": {
            "text/plain": [
              "array([ 5, 10, 15, 20, 25, 30, 35, 40, 45, 50])"
            ]
          },
          "metadata": {},
          "execution_count": 23
        }
      ]
    },
    {
      "cell_type": "code",
      "source": [
        "# 20. Write a NumPy program to create a vector with values from 0 to 20 and change the sign of the numbers in the range from 9 to 15.\n",
        "arr=np.arange(0,21)\n",
        "arr[9:16]=arr[9:16]*-1\n",
        "arr"
      ],
      "metadata": {
        "id": "5CNjXYgLr6Pz"
      },
      "execution_count": null,
      "outputs": []
    },
    {
      "cell_type": "code",
      "source": [
        "# 21. Write a NumPy program to create a vector of length 5 filled with arbitrary integers from 0 to 10.\n",
        "np.random.randint(0,10,size=5)\n"
      ],
      "metadata": {
        "colab": {
          "base_uri": "https://localhost:8080/"
        },
        "id": "uRmnlpansDkz",
        "outputId": "75d61297-7c9c-4ac8-db20-ec2999f66d90"
      },
      "execution_count": null,
      "outputs": [
        {
          "output_type": "execute_result",
          "data": {
            "text/plain": [
              "array([2, 8, 8, 0, 6])"
            ]
          },
          "metadata": {},
          "execution_count": 32
        }
      ]
    },
    {
      "cell_type": "code",
      "source": [
        "# 22. Write a NumPy program to multiply the values of two given vectors.\n",
        "np.random.randint(0,10,size=5)*np.random.randint(0,100,size=5)"
      ],
      "metadata": {
        "colab": {
          "base_uri": "https://localhost:8080/"
        },
        "id": "S4JOhZbZ-d4F",
        "outputId": "f0399ee0-92b3-484a-f29b-1626db7f0a34"
      },
      "execution_count": null,
      "outputs": [
        {
          "output_type": "execute_result",
          "data": {
            "text/plain": [
              "array([588, 819, 584,  10, 144])"
            ]
          },
          "metadata": {},
          "execution_count": 33
        }
      ]
    },
    {
      "cell_type": "code",
      "source": [
        "# 23. Write a NumPy program to create a 3x4 matrix filled with values from 10 to 21.\n",
        "np.random.randint(10,21,size=12).reshape(3,4)"
      ],
      "metadata": {
        "colab": {
          "base_uri": "https://localhost:8080/"
        },
        "id": "5NmlhqvK-peA",
        "outputId": "ba104b07-96e0-4cce-a98f-a6e3ba766b3c"
      },
      "execution_count": null,
      "outputs": [
        {
          "output_type": "execute_result",
          "data": {
            "text/plain": [
              "array([[15, 20, 13, 15],\n",
              "       [14, 14, 18, 18],\n",
              "       [18, 16, 17, 15]])"
            ]
          },
          "metadata": {},
          "execution_count": 28
        }
      ]
    },
    {
      "cell_type": "code",
      "source": [
        "# 24. Write a NumPy program to find the number of rows and columns of a given matrix.\n",
        "np.random.randint(10,21,size=12).reshape(3,4).shape"
      ],
      "metadata": {
        "colab": {
          "base_uri": "https://localhost:8080/"
        },
        "id": "jSnd8MDi_W99",
        "outputId": "66b9e2ba-7936-4352-ac1d-ce065017e5a7"
      },
      "execution_count": null,
      "outputs": [
        {
          "output_type": "execute_result",
          "data": {
            "text/plain": [
              "(3, 4)"
            ]
          },
          "metadata": {},
          "execution_count": 30
        }
      ]
    },
    {
      "cell_type": "code",
      "source": [
        "# 25. Write a NumPy program to create a 3x3 identity matrix, i.e. diagonal elements are 1, the rest are 0.\n",
        "np.eye(3,3)"
      ],
      "metadata": {
        "colab": {
          "base_uri": "https://localhost:8080/"
        },
        "id": "kc8m75Lb_j2M",
        "outputId": "420eff4a-7bb8-4b29-c0ad-c6c0fdb3bed1"
      },
      "execution_count": null,
      "outputs": [
        {
          "output_type": "execute_result",
          "data": {
            "text/plain": [
              "array([[1., 0., 0.],\n",
              "       [0., 1., 0.],\n",
              "       [0., 0., 1.]])"
            ]
          },
          "metadata": {},
          "execution_count": 34
        }
      ]
    },
    {
      "cell_type": "code",
      "source": [
        "# 26. Write a NumPy program to create a 10x10 matrix, in which the elements on the borders will be\n",
        "# equal to 1, and inside 0.\n",
        "arr=np.random.randint(1,2,size=100).reshape(10,10)\n",
        "arr[1:-1,1:-1]=0\n",
        "arr"
      ],
      "metadata": {
        "colab": {
          "base_uri": "https://localhost:8080/"
        },
        "id": "5wSw_kXx_uAy",
        "outputId": "f3399947-afe9-4319-b11d-1250572875cb"
      },
      "execution_count": null,
      "outputs": [
        {
          "output_type": "execute_result",
          "data": {
            "text/plain": [
              "array([[1, 1, 1, 1, 1, 1, 1, 1, 1, 1],\n",
              "       [1, 0, 0, 0, 0, 0, 0, 0, 0, 1],\n",
              "       [1, 0, 0, 0, 0, 0, 0, 0, 0, 1],\n",
              "       [1, 0, 0, 0, 0, 0, 0, 0, 0, 1],\n",
              "       [1, 0, 0, 0, 0, 0, 0, 0, 0, 1],\n",
              "       [1, 0, 0, 0, 0, 0, 0, 0, 0, 1],\n",
              "       [1, 0, 0, 0, 0, 0, 0, 0, 0, 1],\n",
              "       [1, 0, 0, 0, 0, 0, 0, 0, 0, 1],\n",
              "       [1, 0, 0, 0, 0, 0, 0, 0, 0, 1],\n",
              "       [1, 1, 1, 1, 1, 1, 1, 1, 1, 1]])"
            ]
          },
          "metadata": {},
          "execution_count": 35
        }
      ]
    },
    {
      "cell_type": "code",
      "source": [
        "# 27. Write a NumPy program to create a 5x5 zero matrix with elements on the main diagonal equal to 1, 2,\n",
        "# 3, 4, 5.\n",
        "arr=[1,2,3,4,5,6]\n",
        "np.diag(arr)"
      ],
      "metadata": {
        "colab": {
          "base_uri": "https://localhost:8080/"
        },
        "id": "zj0ZvqZ2AUYE",
        "outputId": "37399ebc-626c-40e8-fd56-27d479765a14"
      },
      "execution_count": null,
      "outputs": [
        {
          "output_type": "execute_result",
          "data": {
            "text/plain": [
              "array([[1, 0, 0, 0, 0, 0],\n",
              "       [0, 2, 0, 0, 0, 0],\n",
              "       [0, 0, 3, 0, 0, 0],\n",
              "       [0, 0, 0, 4, 0, 0],\n",
              "       [0, 0, 0, 0, 5, 0],\n",
              "       [0, 0, 0, 0, 0, 6]])"
            ]
          },
          "metadata": {},
          "execution_count": 36
        }
      ]
    },
    {
      "cell_type": "markdown",
      "source": [],
      "metadata": {
        "id": "V_rV-TL5F5CP"
      }
    },
    {
      "cell_type": "markdown",
      "source": [],
      "metadata": {
        "id": "PkOJFMUCF5U_"
      }
    },
    {
      "cell_type": "code",
      "source": [
        "# 28. Write a NumPy program to create a 3x3x3 array filled with arbitrary values.\n",
        "np.random.randint(1,100,size=27).reshape((3,3,3))"
      ],
      "metadata": {
        "colab": {
          "base_uri": "https://localhost:8080/"
        },
        "id": "omcO3bCoA7xi",
        "outputId": "64b75728-3904-4387-e1e8-8769aa08022e"
      },
      "execution_count": null,
      "outputs": [
        {
          "output_type": "execute_result",
          "data": {
            "text/plain": [
              "array([[[21, 56, 66],\n",
              "        [43, 20, 23],\n",
              "        [57, 17, 12]],\n",
              "\n",
              "       [[37, 90, 31],\n",
              "        [61, 40,  5],\n",
              "        [54, 23, 20]],\n",
              "\n",
              "       [[19, 44, 55],\n",
              "        [12,  6, 32],\n",
              "        [14, 63, 72]]])"
            ]
          },
          "metadata": {},
          "execution_count": 37
        }
      ]
    },
    {
      "cell_type": "code",
      "source": [
        "# 29. Write a NumPy program to compute the inner product of two given vectors.\n",
        "arr1=np.random.randint(0,100,size=5)\n",
        "arr2=np.random.randint(0,100,size=5)\n",
        "np.inner(arr1,arr2)"
      ],
      "metadata": {
        "colab": {
          "base_uri": "https://localhost:8080/"
        },
        "id": "ryGp9rzpDeUt",
        "outputId": "f8d6becd-5f4b-4e05-e53e-a84b50183da3"
      },
      "execution_count": null,
      "outputs": [
        {
          "output_type": "execute_result",
          "data": {
            "text/plain": [
              "9503"
            ]
          },
          "metadata": {},
          "execution_count": 38
        }
      ]
    },
    {
      "cell_type": "code",
      "source": [
        "# 30. Write a NumPy program to sort a given array by row and column in ascending order.\n",
        "armali=np.random.randint(1,100,size=27).reshape((3,3,3))\n",
        "print(np.sort(armali,axis=0))\n",
        "print(np.sort(armali))"
      ],
      "metadata": {
        "colab": {
          "base_uri": "https://localhost:8080/"
        },
        "id": "R6RY8N_2Esiz",
        "outputId": "c5426786-4a5c-4f40-fb5a-19803d311fb4"
      },
      "execution_count": null,
      "outputs": [
        {
          "output_type": "stream",
          "name": "stdout",
          "text": [
            "[[[11 79  9]\n",
            "  [47 11 10]\n",
            "  [13 83  5]]\n",
            "\n",
            " [[39 83 30]\n",
            "  [57 13 17]\n",
            "  [64 92 61]]\n",
            "\n",
            " [[66 93 39]\n",
            "  [97 72 44]\n",
            "  [66 99 96]]]\n",
            "[[[39 66 93]\n",
            "  [13 44 47]\n",
            "  [61 66 83]]\n",
            "\n",
            " [[ 9 39 83]\n",
            "  [10 57 72]\n",
            "  [64 92 96]]\n",
            "\n",
            " [[11 30 79]\n",
            "  [11 17 97]\n",
            "  [ 5 13 99]]]\n"
          ]
        }
      ]
    },
    {
      "cell_type": "code",
      "source": [
        "# 31. Write a NumPy program to extract all numbers from a given array which are less and greater\n",
        "# than a specified number.\n",
        "print(arr1)\n",
        "print(arr1[arr1>5])\n",
        "print(arr1[arr1<5])"
      ],
      "metadata": {
        "colab": {
          "base_uri": "https://localhost:8080/"
        },
        "id": "hOWXJpb_Eu-k",
        "outputId": "ef967763-ed3c-4709-a4bc-72d43a369321"
      },
      "execution_count": null,
      "outputs": [
        {
          "output_type": "stream",
          "name": "stdout",
          "text": [
            "[55  1  8 74 61]\n",
            "[55  8 74 61]\n",
            "[1]\n"
          ]
        }
      ]
    },
    {
      "cell_type": "code",
      "source": [
        "# 32. Write a NumPy program to replace all numbers in a given array which is equal, less and greater to a\n",
        "# given number.\n",
        "\n",
        "arr = np.array([1, 2, 3, 4, 5, 6, 7, 8, 9])\n",
        "given_number = 5\n",
        "arr[arr == given_number] = 0\n",
        "arr[arr < given_number] = -1\n",
        "arr[arr > given_number] = 1\n",
        "arr"
      ],
      "metadata": {
        "colab": {
          "base_uri": "https://localhost:8080/"
        },
        "id": "Qknn2esS0Frm",
        "outputId": "43282e32-18ac-4d7e-8617-08ad8c84d013"
      },
      "execution_count": null,
      "outputs": [
        {
          "output_type": "execute_result",
          "data": {
            "text/plain": [
              "array([-1, -1, -1, -1, -1,  1,  1,  1,  1])"
            ]
          },
          "metadata": {},
          "execution_count": 42
        }
      ]
    },
    {
      "cell_type": "code",
      "source": [
        "# 33. Write a NumPy program to create an array of equal shape and data type of a given array.\n",
        "chagan=np.empty_like(arr1)\n",
        "chagan"
      ],
      "metadata": {
        "colab": {
          "base_uri": "https://localhost:8080/"
        },
        "id": "S2qQ0gfNEu6b",
        "outputId": "bde61195-0e48-4ec4-b872-09092916c866"
      },
      "execution_count": null,
      "outputs": [
        {
          "output_type": "execute_result",
          "data": {
            "text/plain": [
              "array([1, 2, 4, 5, 6])"
            ]
          },
          "metadata": {},
          "execution_count": 43
        }
      ]
    },
    {
      "cell_type": "code",
      "source": [
        "# 34. Write a NumPy program to create a three-dimension array with shape (3,5,4) and set to a variable.\n",
        "np.random.randint(1,100,size=60).reshape((3,5,4))"
      ],
      "metadata": {
        "id": "Nq0pWuSoEu1u"
      },
      "execution_count": null,
      "outputs": []
    },
    {
      "cell_type": "code",
      "source": [
        "# 35. Write a NumPy program to multiply two given arrays of same size element-by-element.\n",
        "a=np.arange(1,5)\n",
        "b=np.arange(1,5)\n",
        "np.multiply(a,b)"
      ],
      "metadata": {
        "colab": {
          "base_uri": "https://localhost:8080/"
        },
        "id": "5y3zHm1OEtZt",
        "outputId": "29064cbf-5049-4af1-bd1a-f3d2068f2860"
      },
      "execution_count": null,
      "outputs": [
        {
          "output_type": "execute_result",
          "data": {
            "text/plain": [
              "array([ 1,  4,  9, 16])"
            ]
          },
          "metadata": {},
          "execution_count": 41
        }
      ]
    },
    {
      "cell_type": "code",
      "source": [
        "np.linspace(0,100,num=10)"
      ],
      "metadata": {
        "colab": {
          "base_uri": "https://localhost:8080/"
        },
        "id": "nBKakngE0zdR",
        "outputId": "f139aa14-1b54-4119-ce60-b5aa0c4c98a4"
      },
      "execution_count": null,
      "outputs": [
        {
          "output_type": "execute_result",
          "data": {
            "text/plain": [
              "array([  0.        ,  11.11111111,  22.22222222,  33.33333333,\n",
              "        44.44444444,  55.55555556,  66.66666667,  77.77777778,\n",
              "        88.88888889, 100.        ])"
            ]
          },
          "metadata": {},
          "execution_count": 44
        }
      ]
    },
    {
      "cell_type": "code",
      "source": [],
      "metadata": {
        "id": "IkvW-T_V00Me"
      },
      "execution_count": null,
      "outputs": []
    }
  ]
}